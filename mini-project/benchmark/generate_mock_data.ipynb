{
 "cells": [
  {
   "cell_type": "code",
   "execution_count": 2,
   "id": "e423d7f8",
   "metadata": {},
   "outputs": [],
   "source": [
    "import dspy\n",
    "import pandas as pd\n",
    "import dotenv\n",
    "import os"
   ]
  },
  {
   "cell_type": "code",
   "execution_count": 4,
   "id": "dbf00e6e",
   "metadata": {},
   "outputs": [
    {
     "data": {
      "text/plain": [
       "['臺灣的首都在臺北市。']"
      ]
     },
     "execution_count": 4,
     "metadata": {},
     "output_type": "execute_result"
    }
   ],
   "source": [
    "dotenv.load_dotenv()\n",
    "GATEWAY_KEY = os.environ.get(\"OPENAI_API_KEY\")\n",
    "lm = dspy.LM(\n",
    "    \"openai/gpt-4o-mini\",\n",
    "    temperature=0,\n",
    "    max_tokens=5000,\n",
    "    cache=False,\n",
    ")\n",
    "\n",
    "lm(messages=[{\"role\": \"user\", \"content\": \"臺灣的首都在哪裡？\"}])"
   ]
  },
  {
   "cell_type": "code",
   "execution_count": null,
   "id": "f41b1f8f",
   "metadata": {},
   "outputs": [],
   "source": [
    "\n",
    "user_template_df = pd.read_csv(\"user_template.csv\")\n",
    "user_cnt = len(user_template_df)\n",
    "user_df = pd.DataFrame(columns=[\"id\", \"name\", \"email\", \"bio\", \"keywords\"])\n",
    "\n",
    "for i in range(user_cnt):\n",
    "    user_df[i] = {\n",
    "        \"id\": i,\n",
    "        \"name\": user_template_df[\"name\"][i],\n",
    "        \"email\": user_template_df[\"email\"][i],\n",
    "\n",
    "    }"
   ]
  }
 ],
 "metadata": {
  "kernelspec": {
   "display_name": "mini-project-Jr5IM3s9-py3.12",
   "language": "python",
   "name": "python3"
  },
  "language_info": {
   "codemirror_mode": {
    "name": "ipython",
    "version": 3
   },
   "file_extension": ".py",
   "mimetype": "text/x-python",
   "name": "python",
   "nbconvert_exporter": "python",
   "pygments_lexer": "ipython3",
   "version": "3.12.8"
  }
 },
 "nbformat": 4,
 "nbformat_minor": 5
}
